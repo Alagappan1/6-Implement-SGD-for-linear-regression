{
 "cells": [
  {
   "cell_type": "code",
   "execution_count": 1,
   "metadata": {},
   "outputs": [],
   "source": [
    "from sklearn.datasets import load_boston\n",
    "from sklearn.preprocessing import StandardScaler\n",
    "boston = load_boston()\n"
   ]
  },
  {
   "cell_type": "code",
   "execution_count": 2,
   "metadata": {},
   "outputs": [
    {
     "name": "stdout",
     "output_type": "stream",
     "text": [
      "(506, 13)\n"
     ]
    }
   ],
   "source": [
    "print(boston.data.shape)"
   ]
  },
  {
   "cell_type": "code",
   "execution_count": 3,
   "metadata": {
    "scrolled": true
   },
   "outputs": [
    {
     "name": "stdout",
     "output_type": "stream",
     "text": [
      "['CRIM' 'ZN' 'INDUS' 'CHAS' 'NOX' 'RM' 'AGE' 'DIS' 'RAD' 'TAX' 'PTRATIO'\n",
      " 'B' 'LSTAT']\n"
     ]
    }
   ],
   "source": [
    "print(boston.feature_names)"
   ]
  },
  {
   "cell_type": "code",
   "execution_count": 4,
   "metadata": {},
   "outputs": [
    {
     "name": "stdout",
     "output_type": "stream",
     "text": [
      "[24.  21.6 34.7 33.4 36.2 28.7 22.9 27.1 16.5 18.9 15.  18.9 21.7 20.4\n",
      " 18.2 19.9 23.1 17.5 20.2 18.2 13.6 19.6 15.2 14.5 15.6 13.9 16.6 14.8\n",
      " 18.4 21.  12.7 14.5 13.2 13.1 13.5 18.9 20.  21.  24.7 30.8 34.9 26.6\n",
      " 25.3 24.7 21.2 19.3 20.  16.6 14.4 19.4 19.7 20.5 25.  23.4 18.9 35.4\n",
      " 24.7 31.6 23.3 19.6 18.7 16.  22.2 25.  33.  23.5 19.4 22.  17.4 20.9\n",
      " 24.2 21.7 22.8 23.4 24.1 21.4 20.  20.8 21.2 20.3 28.  23.9 24.8 22.9\n",
      " 23.9 26.6 22.5 22.2 23.6 28.7 22.6 22.  22.9 25.  20.6 28.4 21.4 38.7\n",
      " 43.8 33.2 27.5 26.5 18.6 19.3 20.1 19.5 19.5 20.4 19.8 19.4 21.7 22.8\n",
      " 18.8 18.7 18.5 18.3 21.2 19.2 20.4 19.3 22.  20.3 20.5 17.3 18.8 21.4\n",
      " 15.7 16.2 18.  14.3 19.2 19.6 23.  18.4 15.6 18.1 17.4 17.1 13.3 17.8\n",
      " 14.  14.4 13.4 15.6 11.8 13.8 15.6 14.6 17.8 15.4 21.5 19.6 15.3 19.4\n",
      " 17.  15.6 13.1 41.3 24.3 23.3 27.  50.  50.  50.  22.7 25.  50.  23.8\n",
      " 23.8 22.3 17.4 19.1 23.1 23.6 22.6 29.4 23.2 24.6 29.9 37.2 39.8 36.2\n",
      " 37.9 32.5 26.4 29.6 50.  32.  29.8 34.9 37.  30.5 36.4 31.1 29.1 50.\n",
      " 33.3 30.3 34.6 34.9 32.9 24.1 42.3 48.5 50.  22.6 24.4 22.5 24.4 20.\n",
      " 21.7 19.3 22.4 28.1 23.7 25.  23.3 28.7 21.5 23.  26.7 21.7 27.5 30.1\n",
      " 44.8 50.  37.6 31.6 46.7 31.5 24.3 31.7 41.7 48.3 29.  24.  25.1 31.5\n",
      " 23.7 23.3 22.  20.1 22.2 23.7 17.6 18.5 24.3 20.5 24.5 26.2 24.4 24.8\n",
      " 29.6 42.8 21.9 20.9 44.  50.  36.  30.1 33.8 43.1 48.8 31.  36.5 22.8\n",
      " 30.7 50.  43.5 20.7 21.1 25.2 24.4 35.2 32.4 32.  33.2 33.1 29.1 35.1\n",
      " 45.4 35.4 46.  50.  32.2 22.  20.1 23.2 22.3 24.8 28.5 37.3 27.9 23.9\n",
      " 21.7 28.6 27.1 20.3 22.5 29.  24.8 22.  26.4 33.1 36.1 28.4 33.4 28.2\n",
      " 22.8 20.3 16.1 22.1 19.4 21.6 23.8 16.2 17.8 19.8 23.1 21.  23.8 23.1\n",
      " 20.4 18.5 25.  24.6 23.  22.2 19.3 22.6 19.8 17.1 19.4 22.2 20.7 21.1\n",
      " 19.5 18.5 20.6 19.  18.7 32.7 16.5 23.9 31.2 17.5 17.2 23.1 24.5 26.6\n",
      " 22.9 24.1 18.6 30.1 18.2 20.6 17.8 21.7 22.7 22.6 25.  19.9 20.8 16.8\n",
      " 21.9 27.5 21.9 23.1 50.  50.  50.  50.  50.  13.8 13.8 15.  13.9 13.3\n",
      " 13.1 10.2 10.4 10.9 11.3 12.3  8.8  7.2 10.5  7.4 10.2 11.5 15.1 23.2\n",
      "  9.7 13.8 12.7 13.1 12.5  8.5  5.   6.3  5.6  7.2 12.1  8.3  8.5  5.\n",
      " 11.9 27.9 17.2 27.5 15.  17.2 17.9 16.3  7.   7.2  7.5 10.4  8.8  8.4\n",
      " 16.7 14.2 20.8 13.4 11.7  8.3 10.2 10.9 11.   9.5 14.5 14.1 16.1 14.3\n",
      " 11.7 13.4  9.6  8.7  8.4 12.8 10.5 17.1 18.4 15.4 10.8 11.8 14.9 12.6\n",
      " 14.1 13.  13.4 15.2 16.1 17.8 14.9 14.1 12.7 13.5 14.9 20.  16.4 17.7\n",
      " 19.5 20.2 21.4 19.9 19.  19.1 19.1 20.1 19.9 19.6 23.2 29.8 13.8 13.3\n",
      " 16.7 12.  14.6 21.4 23.  23.7 25.  21.8 20.6 21.2 19.1 20.6 15.2  7.\n",
      "  8.1 13.6 20.1 21.8 24.5 23.1 19.7 18.3 21.2 17.5 16.8 22.4 20.6 23.9\n",
      " 22.  11.9]\n"
     ]
    }
   ],
   "source": [
    "print(boston.target)"
   ]
  },
  {
   "cell_type": "code",
   "execution_count": 5,
   "metadata": {},
   "outputs": [
    {
     "name": "stdout",
     "output_type": "stream",
     "text": [
      ".. _boston_dataset:\n",
      "\n",
      "Boston house prices dataset\n",
      "---------------------------\n",
      "\n",
      "**Data Set Characteristics:**  \n",
      "\n",
      "    :Number of Instances: 506 \n",
      "\n",
      "    :Number of Attributes: 13 numeric/categorical predictive. Median Value (attribute 14) is usually the target.\n",
      "\n",
      "    :Attribute Information (in order):\n",
      "        - CRIM     per capita crime rate by town\n",
      "        - ZN       proportion of residential land zoned for lots over 25,000 sq.ft.\n",
      "        - INDUS    proportion of non-retail business acres per town\n",
      "        - CHAS     Charles River dummy variable (= 1 if tract bounds river; 0 otherwise)\n",
      "        - NOX      nitric oxides concentration (parts per 10 million)\n",
      "        - RM       average number of rooms per dwelling\n",
      "        - AGE      proportion of owner-occupied units built prior to 1940\n",
      "        - DIS      weighted distances to five Boston employment centres\n",
      "        - RAD      index of accessibility to radial highways\n",
      "        - TAX      full-value property-tax rate per $10,000\n",
      "        - PTRATIO  pupil-teacher ratio by town\n",
      "        - B        1000(Bk - 0.63)^2 where Bk is the proportion of blacks by town\n",
      "        - LSTAT    % lower status of the population\n",
      "        - MEDV     Median value of owner-occupied homes in $1000's\n",
      "\n",
      "    :Missing Attribute Values: None\n",
      "\n",
      "    :Creator: Harrison, D. and Rubinfeld, D.L.\n",
      "\n",
      "This is a copy of UCI ML housing dataset.\n",
      "https://archive.ics.uci.edu/ml/machine-learning-databases/housing/\n",
      "\n",
      "\n",
      "This dataset was taken from the StatLib library which is maintained at Carnegie Mellon University.\n",
      "\n",
      "The Boston house-price data of Harrison, D. and Rubinfeld, D.L. 'Hedonic\n",
      "prices and the demand for clean air', J. Environ. Economics & Management,\n",
      "vol.5, 81-102, 1978.   Used in Belsley, Kuh & Welsch, 'Regression diagnostics\n",
      "...', Wiley, 1980.   N.B. Various transformations are used in the table on\n",
      "pages 244-261 of the latter.\n",
      "\n",
      "The Boston house-price data has been used in many machine learning papers that address regression\n",
      "problems.   \n",
      "     \n",
      ".. topic:: References\n",
      "\n",
      "   - Belsley, Kuh & Welsch, 'Regression diagnostics: Identifying Influential Data and Sources of Collinearity', Wiley, 1980. 244-261.\n",
      "   - Quinlan,R. (1993). Combining Instance-Based and Model-Based Learning. In Proceedings on the Tenth International Conference of Machine Learning, 236-243, University of Massachusetts, Amherst. Morgan Kaufmann.\n",
      "\n"
     ]
    }
   ],
   "source": [
    "print(boston.DESCR)"
   ]
  },
  {
   "cell_type": "code",
   "execution_count": 6,
   "metadata": {},
   "outputs": [
    {
     "name": "stdout",
     "output_type": "stream",
     "text": [
      "        0     1     2    3      4      5     6       7    8      9     10  \\\n",
      "0  0.00632  18.0  2.31  0.0  0.538  6.575  65.2  4.0900  1.0  296.0  15.3   \n",
      "1  0.02731   0.0  7.07  0.0  0.469  6.421  78.9  4.9671  2.0  242.0  17.8   \n",
      "2  0.02729   0.0  7.07  0.0  0.469  7.185  61.1  4.9671  2.0  242.0  17.8   \n",
      "3  0.03237   0.0  2.18  0.0  0.458  6.998  45.8  6.0622  3.0  222.0  18.7   \n",
      "4  0.06905   0.0  2.18  0.0  0.458  7.147  54.2  6.0622  3.0  222.0  18.7   \n",
      "\n",
      "       11    12  \n",
      "0  396.90  4.98  \n",
      "1  396.90  9.14  \n",
      "2  392.83  4.03  \n",
      "3  394.63  2.94  \n",
      "4  396.90  5.33  \n"
     ]
    }
   ],
   "source": [
    "import pandas as pd\n",
    "bos = pd.DataFrame(boston.data)\n",
    "print(bos.head())"
   ]
  },
  {
   "cell_type": "code",
   "execution_count": 7,
   "metadata": {},
   "outputs": [
    {
     "data": {
      "text/plain": [
       "'scaler = StandardScaler()\\nscaler.fit(bos) \\nbos = scaler.transform(bos)'"
      ]
     },
     "execution_count": 7,
     "metadata": {},
     "output_type": "execute_result"
    }
   ],
   "source": [
    "'''scaler = StandardScaler()\n",
    "scaler.fit(bos) \n",
    "bos = scaler.transform(bos)'''"
   ]
  },
  {
   "cell_type": "code",
   "execution_count": 8,
   "metadata": {},
   "outputs": [],
   "source": [
    "bos['PRICE'] = boston.target\n",
    "\n",
    "X = bos.drop('PRICE', axis = 1)\n",
    "Y = bos['PRICE']"
   ]
  },
  {
   "cell_type": "code",
   "execution_count": 9,
   "metadata": {},
   "outputs": [
    {
     "data": {
      "text/plain": [
       "'scaler = StandardScaler()\\nscaler.fit(X) \\nX = scaler.transform(X)'"
      ]
     },
     "execution_count": 9,
     "metadata": {},
     "output_type": "execute_result"
    }
   ],
   "source": [
    "'''scaler = StandardScaler()\n",
    "scaler.fit(X) \n",
    "X = scaler.transform(X)'''"
   ]
  },
  {
   "cell_type": "code",
   "execution_count": 10,
   "metadata": {},
   "outputs": [
    {
     "name": "stdout",
     "output_type": "stream",
     "text": [
      "(339, 13)\n",
      "(167, 13)\n",
      "(339,)\n",
      "(167,)\n"
     ]
    }
   ],
   "source": [
    "from sklearn.model_selection import train_test_split\n",
    "\n",
    "X_train, X_test, Y_train, Y_test = train_test_split(X, Y, test_size = 0.33, random_state = 5)\n",
    "print(X_train.shape)\n",
    "print(X_test.shape)\n",
    "print(Y_train.shape)\n",
    "print(Y_test.shape)"
   ]
  },
  {
   "cell_type": "code",
   "execution_count": 11,
   "metadata": {},
   "outputs": [],
   "source": [
    "scaler = StandardScaler()\n",
    "scaler.fit(X_train) \n",
    "X_train = scaler.transform(X_train)\n",
    "X_test = scaler.transform(X_test)\n"
   ]
  },
  {
   "cell_type": "code",
   "execution_count": 12,
   "metadata": {},
   "outputs": [
    {
     "data": {
      "text/plain": [
       "<Figure size 640x480 with 1 Axes>"
      ]
     },
     "metadata": {},
     "output_type": "display_data"
    }
   ],
   "source": [
    "# code source:https://medium.com/@haydar_ai/learning-data-science-day-9-linear-regression-on-boston-housing-dataset-cd62a80775ef\n",
    "from sklearn.linear_model import LinearRegression\n",
    "import matplotlib.pyplot as plt\n",
    "lm = LinearRegression()\n",
    "lm.fit(X_train, Y_train)\n",
    "\n",
    "Y_pred = lm.predict(X_test)\n",
    "\n",
    "plt.scatter(Y_test, Y_pred)\n",
    "plt.xlabel(\"Prices: $Y_i$\")\n",
    "plt.ylabel(\"Predicted prices: $\\hat{Y}_i$\")\n",
    "plt.title(\"Prices vs Predicted prices: $Y_i$ vs $\\hat{Y}_i$\")\n",
    "plt.show()"
   ]
  },
  {
   "cell_type": "code",
   "execution_count": 13,
   "metadata": {},
   "outputs": [
    {
     "data": {
      "image/png": "[encoded data removed]",
      "text/plain": [
       "<Figure size 432x288 with 1 Axes>"
      ]
     },
     "metadata": {},
     "output_type": "display_data"
    }
   ],
   "source": [
    "delta_y = Y_test - Y_pred;\n",
    "\n",
    "import seaborn as sns;\n",
    "import numpy as np;\n",
    "sns.set_style('whitegrid')\n",
    "sns.kdeplot(np.array(delta_y), bw=0.5)\n",
    "plt.show()\n"
   ]
  },
  {
   "cell_type": "code",
   "execution_count": 14,
   "metadata": {},
   "outputs": [
    {
     "data": {
      "image/png": "[encoded data removed]",
      "text/plain": [
       "<Figure size 432x288 with 1 Axes>"
      ]
     },
     "metadata": {},
     "output_type": "display_data"
    }
   ],
   "source": [
    "sns.set_style('whitegrid')\n",
    "sns.kdeplot(np.array(Y_pred), bw=0.5)\n",
    "plt.show()"
   ]
  },
  {
   "cell_type": "markdown",
   "metadata": {},
   "source": [
    "# Implementing GD on LINEAR REGRESSION"
   ]
  },
  {
   "cell_type": "code",
   "execution_count": 15,
   "metadata": {},
   "outputs": [],
   "source": [
    "import random\n",
    "import math\n",
    "import collections\n",
    "import numpy as np\n",
    "import random"
   ]
  },
  {
   "cell_type": "code",
   "execution_count": 16,
   "metadata": {},
   "outputs": [
    {
     "name": "stdout",
     "output_type": "stream",
     "text": [
      "(1, 339)\n",
      "(339, 13)\n"
     ]
    }
   ],
   "source": [
    "Y_train\n",
    "print(np.asmatrix(Y_train).shape)\n",
    "print(np.asmatrix(X_train).shape)"
   ]
  },
  {
   "cell_type": "code",
   "execution_count": 91,
   "metadata": {},
   "outputs": [
    {
     "name": "stdout",
     "output_type": "stream",
     "text": [
      "1\n",
      "2\n",
      "3\n",
      "4\n",
      "5\n",
      "6\n",
      "7\n",
      "8\n",
      "9\n",
      "10\n",
      "11\n",
      "12\n",
      "13\n",
      "14\n",
      "15\n",
      "16\n",
      "17\n",
      "18\n",
      "19\n",
      "20\n",
      "21\n",
      "22\n",
      "23\n",
      "24\n",
      "25\n",
      "26\n",
      "27\n",
      "28\n",
      "29\n",
      "30\n",
      "31\n",
      "32\n",
      "33\n",
      "34\n",
      "35\n",
      "36\n",
      "37\n",
      "38\n",
      "39\n",
      "40\n",
      "41\n",
      "42\n",
      "43\n",
      "44\n",
      "45\n",
      "46\n",
      "47\n",
      "48\n",
      "49\n",
      "50\n",
      "51\n",
      "52\n",
      "53\n",
      "54\n",
      "55\n",
      "56\n",
      "57\n",
      "58\n",
      "59\n",
      "60\n",
      "61\n",
      "62\n",
      "Breaking\n"
     ]
    }
   ],
   "source": [
    "learning_rate =  0.16\n",
    "w0_random = np.random.rand(13)\n",
    "w0 = np.asmatrix(w0_random).T\n",
    "b0 = np.random.rand()\n",
    "w0_random.shape\n",
    "\n",
    "y = np.asmatrix(Y_train).reshape(-1,1)\n",
    "x = np.asmatrix(X_train)\n",
    "\n",
    "n_iter = 5000\n",
    "itr = 1\n",
    "partial_deriv_m = 0\n",
    "partial_deriv_b = 0\n",
    "\n",
    "for j in range(1, n_iter):\n",
    "    print(itr)\n",
    "    itr = itr + 1\n",
    "    \n",
    "    for i in range(len(x)):\n",
    "        #Computing gradient\n",
    "        partial_deriv_m += x[i].reshape(-1,1) * (y[i] - (np.dot(x[i],w0) + b0)) #np.dot(-2*x[i].T , (y[:,i] - np.dot(x[i] , w0) + b0))\n",
    "        partial_deriv_b += y[i] - ((np.dot(x[i],w0)+b0)) #-2*(y[:,i] - (np.dot(x[i] , w0) + b0))\n",
    "    w1 = w0 - learning_rate *(-2/len(x))* partial_deriv_m \n",
    "    b1 = b0 - learning_rate *(-2/len(x))* partial_deriv_b\n",
    "    \n",
    "    if (w0==w1).all() and b0 == b1:\n",
    "        #Stop on convergence\n",
    "        print(\"Breaking\")\n",
    "        break\n",
    "        \n",
    "    else:\n",
    "        w0 = w1\n",
    "        b0 = b1\n",
    "        learning_rate = learning_rate/2"
   ]
  },
  {
   "cell_type": "code",
   "execution_count": 92,
   "metadata": {},
   "outputs": [],
   "source": [
    "#Y = np.asmatrix(Y_train)\n",
    "X = np.asmatrix(X_test)"
   ]
  },
  {
   "cell_type": "code",
   "execution_count": 93,
   "metadata": {},
   "outputs": [],
   "source": [
    "#y_pred = np.zeros(X_test.shape[0])\n",
    "#for i in range (X_test.shape[0]):\n",
    "    #y_pred[i] = np.dot(X[i] , w1) + b1\n",
    "    \n",
    "y_pred = np.dot(X,w0) + b0"
   ]
  },
  {
   "cell_type": "code",
   "execution_count": 94,
   "metadata": {},
   "outputs": [
    {
     "data": {
      "text/plain": [
       "array([[13.4],\n",
       "       [23.6],\n",
       "       [27.5],\n",
       "       [22.2],\n",
       "       [17.7],\n",
       "       [14.3],\n",
       "       [21.7],\n",
       "       [ 8.4],\n",
       "       [15.3],\n",
       "       [20.3],\n",
       "       [32. ],\n",
       "       [20. ],\n",
       "       [19.1],\n",
       "       [28.7],\n",
       "       [46. ],\n",
       "       [22.6],\n",
       "       [23.9],\n",
       "       [21.9],\n",
       "       [15.6],\n",
       "       [50. ],\n",
       "       [25. ],\n",
       "       [37.9],\n",
       "       [21.6],\n",
       "       [19.3],\n",
       "       [17.5],\n",
       "       [22.9],\n",
       "       [15. ],\n",
       "       [27.5],\n",
       "       [10.2],\n",
       "       [23.8],\n",
       "       [23.9],\n",
       "       [20.1],\n",
       "       [16.5],\n",
       "       [33.1],\n",
       "       [14.6],\n",
       "       [28.4],\n",
       "       [23.7],\n",
       "       [12.3],\n",
       "       [31.5],\n",
       "       [22. ],\n",
       "       [12.5],\n",
       "       [35.1],\n",
       "       [14.9],\n",
       "       [22.9],\n",
       "       [22.9],\n",
       "       [19.3],\n",
       "       [19.8],\n",
       "       [20. ],\n",
       "       [29.6],\n",
       "       [20.5],\n",
       "       [29. ],\n",
       "       [20.7],\n",
       "       [19.9],\n",
       "       [11.9],\n",
       "       [ 5. ],\n",
       "       [23.3],\n",
       "       [20.6],\n",
       "       [22.9],\n",
       "       [19.6],\n",
       "       [14.1],\n",
       "       [30.8],\n",
       "       [43.1],\n",
       "       [19.9],\n",
       "       [13.9],\n",
       "       [22.3],\n",
       "       [14.3],\n",
       "       [23.9],\n",
       "       [16. ],\n",
       "       [20.5],\n",
       "       [10.2],\n",
       "       [20.1],\n",
       "       [12.8],\n",
       "       [18.9],\n",
       "       [22. ],\n",
       "       [20.4],\n",
       "       [17.5],\n",
       "       [13.1],\n",
       "       [22. ],\n",
       "       [45.4],\n",
       "       [18.8],\n",
       "       [20. ],\n",
       "       [20.1],\n",
       "       [21.4],\n",
       "       [17.4],\n",
       "       [21.1],\n",
       "       [28.1],\n",
       "       [19.5],\n",
       "       [36.2],\n",
       "       [20.8],\n",
       "       [18.6],\n",
       "       [21.2],\n",
       "       [42.8],\n",
       "       [24.8],\n",
       "       [25. ],\n",
       "       [23.3],\n",
       "       [28.2],\n",
       "       [21.6],\n",
       "       [21. ],\n",
       "       [11.9],\n",
       "       [50. ],\n",
       "       [17.8],\n",
       "       [34.7],\n",
       "       [28.4],\n",
       "       [14.5],\n",
       "       [30.1],\n",
       "       [19.8],\n",
       "       [19.3],\n",
       "       [18.4],\n",
       "       [ 9.6],\n",
       "       [29.1],\n",
       "       [13.4],\n",
       "       [17.1],\n",
       "       [22. ],\n",
       "       [31.5],\n",
       "       [31.2],\n",
       "       [24.3],\n",
       "       [10.9],\n",
       "       [26.6],\n",
       "       [26.2],\n",
       "       [17. ],\n",
       "       [36.2],\n",
       "       [24.1],\n",
       "       [22. ],\n",
       "       [22.4],\n",
       "       [18. ],\n",
       "       [14.9],\n",
       "       [13.6],\n",
       "       [22.6],\n",
       "       [23.8],\n",
       "       [11.3],\n",
       "       [37.3],\n",
       "       [38.7],\n",
       "       [20.1],\n",
       "       [12. ],\n",
       "       [28.5],\n",
       "       [29.6],\n",
       "       [20.9],\n",
       "       [22.2],\n",
       "       [18.5],\n",
       "       [21.7],\n",
       "       [16.1],\n",
       "       [15. ],\n",
       "       [33.3],\n",
       "       [23.8],\n",
       "       [20.1],\n",
       "       [16.7],\n",
       "       [21.2],\n",
       "       [20.8],\n",
       "       [36.4],\n",
       "       [18.9],\n",
       "       [18.2],\n",
       "       [13.3],\n",
       "       [29.9],\n",
       "       [50. ],\n",
       "       [20.9],\n",
       "       [25. ],\n",
       "       [ 7.2],\n",
       "       [31.1],\n",
       "       [19.2],\n",
       "       [20. ],\n",
       "       [27.5],\n",
       "       [19.1],\n",
       "       [ 8.4],\n",
       "       [13.9],\n",
       "       [13.5],\n",
       "       [15.6],\n",
       "       [18.2],\n",
       "       [19.5],\n",
       "       [42.3],\n",
       "       [32.9],\n",
       "       [16.2],\n",
       "       [17.8],\n",
       "       [43.5],\n",
       "       [20.3],\n",
       "       [17.4],\n",
       "       [18.3],\n",
       "       [12.6],\n",
       "       [31.6],\n",
       "       [29.1],\n",
       "       [21.1],\n",
       "       [15.1],\n",
       "       [25. ],\n",
       "       [24.2],\n",
       "       [16.8],\n",
       "       [25.2],\n",
       "       [ 9.5],\n",
       "       [30.7],\n",
       "       [50. ],\n",
       "       [14.5],\n",
       "       [22.3],\n",
       "       [20. ],\n",
       "       [23.7],\n",
       "       [24.8],\n",
       "       [33.8],\n",
       "       [24.5],\n",
       "       [16.4],\n",
       "       [15.2],\n",
       "       [18.5],\n",
       "       [22.8],\n",
       "       [29.8],\n",
       "       [23.3],\n",
       "       [26.7],\n",
       "       [20.4],\n",
       "       [19. ],\n",
       "       [27. ],\n",
       "       [22.8],\n",
       "       [24.6],\n",
       "       [33.2],\n",
       "       [23.1],\n",
       "       [18.9],\n",
       "       [23. ],\n",
       "       [22.5],\n",
       "       [50. ],\n",
       "       [22. ],\n",
       "       [23.3],\n",
       "       [21. ],\n",
       "       [23.1],\n",
       "       [29.8],\n",
       "       [19.9],\n",
       "       [24.6],\n",
       "       [39.8],\n",
       "       [48.3],\n",
       "       [ 8.5],\n",
       "       [ 7.2],\n",
       "       [25. ],\n",
       "       [15.7],\n",
       "       [25. ],\n",
       "       [36.5],\n",
       "       [33. ],\n",
       "       [11.7],\n",
       "       [23.7],\n",
       "       [15.4],\n",
       "       [ 8.8],\n",
       "       [20.6],\n",
       "       [13.4],\n",
       "       [29.4],\n",
       "       [ 5. ],\n",
       "       [ 7.5],\n",
       "       [23.1],\n",
       "       [19.4],\n",
       "       [13.2],\n",
       "       [14.5],\n",
       "       [41.7],\n",
       "       [24. ],\n",
       "       [13.8],\n",
       "       [ 8.5],\n",
       "       [17.2],\n",
       "       [32. ],\n",
       "       [23.6],\n",
       "       [11.5],\n",
       "       [20.2],\n",
       "       [33.1],\n",
       "       [24.7],\n",
       "       [22.8],\n",
       "       [16.1],\n",
       "       [18.2],\n",
       "       [20.6],\n",
       "       [23.1],\n",
       "       [23.2],\n",
       "       [32.7],\n",
       "       [28.7],\n",
       "       [24.8],\n",
       "       [16.3],\n",
       "       [21.8],\n",
       "       [21.2],\n",
       "       [22. ],\n",
       "       [ 7.4],\n",
       "       [32.5],\n",
       "       [10.4],\n",
       "       [18.5],\n",
       "       [50. ],\n",
       "       [37. ],\n",
       "       [13.6],\n",
       "       [19.4],\n",
       "       [21.9],\n",
       "       [17.8],\n",
       "       [18.1],\n",
       "       [18.5],\n",
       "       [50. ],\n",
       "       [32.4],\n",
       "       [14.6],\n",
       "       [19.5],\n",
       "       [21.7],\n",
       "       [25. ],\n",
       "       [36. ],\n",
       "       [23.2],\n",
       "       [21.8],\n",
       "       [37.2],\n",
       "       [19.9],\n",
       "       [22.7],\n",
       "       [21.7],\n",
       "       [10.2],\n",
       "       [44. ],\n",
       "       [23.8],\n",
       "       [28.7],\n",
       "       [19.5],\n",
       "       [11.8],\n",
       "       [19.3],\n",
       "       [21.7],\n",
       "       [ 7.2],\n",
       "       [24.5],\n",
       "       [26.6],\n",
       "       [20.8],\n",
       "       [17.1],\n",
       "       [13.3],\n",
       "       [21.9],\n",
       "       [15.6],\n",
       "       [21.4],\n",
       "       [22.5],\n",
       "       [19.1],\n",
       "       [12.7],\n",
       "       [14.1],\n",
       "       [23.5],\n",
       "       [48.5],\n",
       "       [22.6],\n",
       "       [21.2],\n",
       "       [14.8],\n",
       "       [28. ],\n",
       "       [ 8.7],\n",
       "       [18.7],\n",
       "       [ 6.3],\n",
       "       [50. ],\n",
       "       [27.1],\n",
       "       [24.4],\n",
       "       [24.3],\n",
       "       [18.8],\n",
       "       [17.2],\n",
       "       [14.9],\n",
       "       [31.7],\n",
       "       [46.7],\n",
       "       [16.5],\n",
       "       [23.4],\n",
       "       [ 5.6],\n",
       "       [20.4],\n",
       "       [19.1],\n",
       "       [34.9],\n",
       "       [23.1],\n",
       "       [24.4],\n",
       "       [20.6]])"
      ]
     },
     "execution_count": 94,
     "metadata": {},
     "output_type": "execute_result"
    }
   ],
   "source": [
    "Y_test.shape\n",
    "type(Y_test)\n",
    "np.array(Y_train.iloc[:].tolist()).reshape((-1, 1))"
   ]
  },
  {
   "cell_type": "code",
   "execution_count": 95,
   "metadata": {},
   "outputs": [
    {
     "name": "stdout",
     "output_type": "stream",
     "text": [
      "Mean Absolute Error for Implementation  :  3.8074679097355526\n",
      "Mean Squared Error for Implementation :  33.224265422633266\n",
      "Root Mean Squared Error for Implementation  :  5.764049394534476\n"
     ]
    }
   ],
   "source": [
    "from sklearn.metrics import mean_absolute_error,mean_squared_error\n",
    "\n",
    "# calculate Mean Absolute Error (MAE), Mean Squared Error (MSE), Root Mean Squared Error (RMSE)\n",
    "print(\"Mean Absolute Error for Implementation  : \",mean_absolute_error(Y_test, y_pred))\n",
    "print(\"Mean Squared Error for Implementation : \",mean_squared_error(Y_test, y_pred))\n",
    "print(\"Root Mean Squared Error for Implementation  : \",np.sqrt(mean_squared_error(Y_test,y_pred)))"
   ]
  },
  {
   "cell_type": "markdown",
   "metadata": {},
   "source": [
    "# Implementing SKLEARN's SGD Regression "
   ]
  },
  {
   "cell_type": "code",
   "execution_count": 96,
   "metadata": {},
   "outputs": [
    {
     "name": "stderr",
     "output_type": "stream",
     "text": [
      "C:\\Users\\Kashif\\Anaconda3\\lib\\site-packages\\sklearn\\linear_model\\stochastic_gradient.py:166: FutureWarning: max_iter and tol parameters have been added in SGDRegressor in 0.19. If both are left unset, they default to max_iter=5 and tol=None. If tol is not None, max_iter defaults to max_iter=1000. From 0.21, default max_iter will be 1000, and default tol will be 1e-3.\n",
      "  FutureWarning)\n"
     ]
    },
    {
     "data": {
      "image/png": "[encoded data removed]",
      "text/plain": [
       "<Figure size 432x288 with 1 Axes>"
      ]
     },
     "metadata": {},
     "output_type": "display_data"
    }
   ],
   "source": [
    "from sklearn.linear_model import SGDRegressor\n",
    "sgd = SGDRegressor()\n",
    "sgd.fit(X_train, Y_train)\n",
    "\n",
    "sklearn_sgd_predictions = sgd.predict(X_test)\n",
    "\n",
    "# Weights of Sklearn's SGD\n",
    "sklearn_sgd_weights = sgd.coef_ \n",
    "\n",
    "plt.scatter(Y_test, sklearn_sgd_predictions)\n",
    "plt.xlabel(\"Actual Prices: $Y_i$\",size=14)\n",
    "plt.ylabel(\"Predicted prices: $\\hat{Y}_i$\",size=14)\n",
    "plt.title(\"Actual Prices vs Predicted Prices: $Y_i$ vs $\\hat{Y}_i$\",size=18)\n",
    "plt.show()"
   ]
  },
  {
   "cell_type": "code",
   "execution_count": 97,
   "metadata": {},
   "outputs": [
    {
     "data": {
      "image/png": "[encoded data removed]",
      "text/plain": [
       "<Figure size 432x288 with 1 Axes>"
      ]
     },
     "metadata": {},
     "output_type": "display_data"
    }
   ],
   "source": [
    "delta_y = Y_test - sklearn_sgd_predictions;\n",
    "sns.set_style('whitegrid')\n",
    "sns.kdeplot(np.array(delta_y), bw=0.5)\n",
    "plt.show()"
   ]
  },
  {
   "cell_type": "code",
   "execution_count": 98,
   "metadata": {},
   "outputs": [
    {
     "data": {
      "image/png": "[encoded data removed]",
      "text/plain": [
       "<Figure size 432x288 with 1 Axes>"
      ]
     },
     "metadata": {},
     "output_type": "display_data"
    }
   ],
   "source": [
    "sns.set_style('whitegrid')\n",
    "sns.kdeplot(np.array(sklearn_sgd_predictions), bw=0.5)\n",
    "plt.show()"
   ]
  },
  {
   "cell_type": "code",
   "execution_count": 99,
   "metadata": {},
   "outputs": [
    {
     "name": "stdout",
     "output_type": "stream",
     "text": [
      "Mean Absolute Error for Implementation of SGD using SKLEARN is :  3.4311767223335665\n",
      "Mean Squared Error for Implementation of SGD using SKLEARN is :  31.066143929921573\n",
      "Root Mean Squared Error for Implementation of SGD using SKLEARN is :  5.573701098006743\n"
     ]
    }
   ],
   "source": [
    "# Calculating accuracy for Implementation of SGD using SKLEARN\n",
    "from sklearn.metrics import mean_absolute_error,mean_squared_error\n",
    "\n",
    "# calculate Mean Absolute Error (MAE), Mean Squared Error (MSE), Root Mean Squared Error (RMSE)\n",
    "print(\"Mean Absolute Error for Implementation of SGD using SKLEARN is : \",mean_absolute_error(Y_test,sklearn_sgd_predictions))\n",
    "print(\"Mean Squared Error for Implementation of SGD using SKLEARN is : \",mean_squared_error(Y_test, sklearn_sgd_predictions))\n",
    "print(\"Root Mean Squared Error for Implementation of SGD using SKLEARN is : \",np.sqrt(mean_squared_error(Y_test,sklearn_sgd_predictions)))"
   ]
  },
  {
   "cell_type": "markdown",
   "metadata": {},
   "source": [
    "# Comparing the weights produced by both Manual SGD and Sklearn's SGD"
   ]
  },
  {
   "cell_type": "code",
   "execution_count": 100,
   "metadata": {},
   "outputs": [
    {
     "name": "stdout",
     "output_type": "stream",
     "text": [
      "+-------+-----------------------+--------------------------+\n",
      "| S.NO. | Weights of Manual SGD | Weights of Sklearn's SGD |\n",
      "+-------+-----------------------+--------------------------+\n",
      "|   1   |    [[-0.80574401]]    |   -0.9754500170928221    |\n",
      "|   2   |     [[0.30574536]]    |   0.49363150057071153    |\n",
      "|   3   |    [[-0.36973406]]    |    -0.635818859287997    |\n",
      "|   4   |     [[0.59980994]]    |    0.281630972816123     |\n",
      "|   5   |     [[0.49189979]]    |    -0.565215870733836    |\n",
      "|   6   |     [[3.68071541]]    |    3.1740900690423905    |\n",
      "|   7   |     [[0.17193796]]    |   -0.4900268755019958    |\n",
      "|   8   |    [[-1.28176007]]    |   -1.8832603967765258    |\n",
      "|   9   |     [[0.46547646]]    |    0.6313639658750777    |\n",
      "|   10  |    [[-0.31360303]]    |   -0.42689140693157135   |\n",
      "|   11  |    [[-1.83076023]]    |   -1.8473563084325624    |\n",
      "|   12  |     [[0.83592351]]    |    0.8828979991044843    |\n",
      "|   13  |    [[-2.33919171]]    |   -2.9600826293466276    |\n",
      "+-------+-----------------------+--------------------------+\n"
     ]
    }
   ],
   "source": [
    "# Creating the table using PrettyTable library\n",
    "from prettytable import PrettyTable\n",
    "\n",
    "numbering = [1,2,3,4,5,6,7,8,9,10,11,12,13]\n",
    "# Initializing prettytable\n",
    "ptable = PrettyTable()\n",
    "\n",
    "# Adding columns\n",
    "ptable.add_column(\"S.NO.\",numbering)\n",
    "ptable.add_column(\"Weights of Manual SGD\",w1)\n",
    "ptable.add_column(\"Weights of Sklearn's SGD\",sklearn_sgd_weights)\n",
    "\n",
    "# Printing the Table\n",
    "print(ptable)"
   ]
  },
  {
   "cell_type": "code",
   "execution_count": 105,
   "metadata": {},
   "outputs": [
    {
     "data": {
      "image/png": "[encoded data removed]",
      "text/plain": [
       "<Figure size 432x288 with 1 Axes>"
      ]
     },
     "metadata": {},
     "output_type": "display_data"
    }
   ],
   "source": [
    "# Scatter Plot of the predictions of both manual SGD Regression and Sklearn's SGD Regression\n",
    "plt.scatter(np.array(y_pred.tolist()), sklearn_sgd_predictions)\n",
    "plt.xlabel(\"Random implementaion SGD\",size=13)\n",
    "plt.ylabel(\"Predictions of Sklearn's SGD\",size=13)\n",
    "plt.title(\"Random implementaion SGD VS Sklearn's SGD Predictions\")\n",
    "plt.show()"
   ]
  },
  {
   "cell_type": "markdown",
   "metadata": {},
   "source": [
    "By observing the graphs , mean absolute error , mean squared error and root mean squared error for both (custom gd Regression and Sklearn's sgd Regression) implementation of SGD we can say that custom GD model and Sklearn's SGD model is giving  similar results."
   ]
  },
  {
   "cell_type": "code",
   "execution_count": null,
   "metadata": {},
   "outputs": [],
   "source": []
  }
 ],
 "metadata": {
  "kernelspec": {
   "display_name": "Python 3",
   "language": "python",
   "name": "python3"
  },
  "language_info": {
   "codemirror_mode": {
    "name": "ipython",
    "version": 3
   },
   "file_extension": ".py",
   "mimetype": "text/x-python",
   "name": "python",
   "nbconvert_exporter": "python",
   "pygments_lexer": "ipython3",
   "version": "3.6.5"
  }
 },
 "nbformat": 4,
 "nbformat_minor": 2
}
